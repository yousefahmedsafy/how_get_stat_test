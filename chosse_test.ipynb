{
 "cells": [
  {
   "cell_type": "markdown",
   "metadata": {},
   "source": [
    "![Alt text](<Screenshot 2023-09-14 230547.png>)"
   ]
  },
  {
   "cell_type": "markdown",
   "metadata": {},
   "source": [
    "# how to chosse the test  "
   ]
  },
  {
   "cell_type": "markdown",
   "metadata": {},
   "source": [
    "## q1 biverirate/ multvarible\n",
    "### biverirate:\n",
    " it's relation between 2 variable <br>\n",
    "ex : age height\n",
    "### multvarible:\n",
    " it's relation between multvarible <br>\n",
    "ex :effect coffie and smoking in heart attack"
   ]
  },
  {
   "cell_type": "markdown",
   "metadata": {},
   "source": [
    "## q2 difference and corrlation\n",
    " ### difference: \n",
    " it check difference between variables <br>\n",
    "### corrlation\n",
    ": check assoiation between variables <br>\n",
    "\n"
   ]
  },
  {
   "cell_type": "markdown",
   "metadata": {},
   "source": [
    "## Q3: Independent / Paired dat\n",
    "### Independent/unpaired: The observations in each\n",
    "sample are not related\n",
    "There is no relationship between the subjects in each sample.\n",
    "• Subjects in the first group cannot also be in the second group\n",
    "• No subject in either group can influence subjects in the other\n",
    "group\n",
    "### Dependent/Paired: paired samples include\n",
    "pre-test/post-test samples (a variable is measured before\n",
    "and after an intervention)\n",
    "When a variable is measured twice or more on the same\n",
    "individual\n",
    "cross-over trials\n",
    "matched samples"
   ]
  },
  {
   "cell_type": "markdown",
   "metadata": {},
   "source": [
    "Q4: Type of outcome and normality of distribution\n",
    "DATA\n",
    "• Time to event data (survival)\n",
    "NUMERICAL( UNIT)\n",
    "\n",
    "CATEGORICAL (NO UNIT)\n",
    "\n",
    "NOMINAL (NO ORDER)\n",
    "\n",
    "ORDINAL   (ORDERED)\n",
    "DISCRETE (COUNTED/ integer)\n",
    "\n",
    "CONTINUOUS(MEASURED/decimals)"
   ]
  },
  {
   "cell_type": "markdown",
   "metadata": {},
   "source": [
    "Q5: Number of groups/conditions\n",
    "Are we comparing\n",
    "two groups or more than two groups"
   ]
  },
  {
   "cell_type": "markdown",
   "metadata": {},
   "source": [
    "# Types of Statistical Tests and When to Use Each Type with Examples\n",
    "\n",
    "Statistical tests are used to analyze data and make inferences about populations based on sample data. The choice of a specific statistical test depends on several factors, including the research question, the type of data you have, and the assumptions you can make about the data. Here are some common types of statistical tests and when to use each type, along with examples:\n",
    "\n",
    "## 1. T-Tests\n",
    "\n",
    "### Independent Samples T-Test\n",
    "- Used to compare means of two independent groups to determine if they are statistically different.\n",
    "- Example: Comparing the average test scores of students who received tutoring and those who did not.\n",
    "\n",
    "### Paired Samples T-Test\n",
    "- Used when you have paired or matched observations, such as before-and-after measurements.\n",
    "- Example: Comparing the blood pressure of individuals before and after a treatment.\n",
    "\n",
    "## 2. ANOVA (Analysis of Variance)\n",
    "\n",
    "### One-Way ANOVA\n",
    "- Used to compare means of three or more independent groups to determine if at least one group differs significantly from the others.\n",
    "- Example: Comparing the average test scores of students from three different schools.\n",
    "\n",
    "### Two-Way ANOVA\n",
    "- Extends one-way ANOVA to examine the influence of two categorical independent variables on a continuous dependent variable.\n",
    "- Example: Analyzing the effect of both gender and age group on test scores.\n",
    "\n",
    "## 3. Chi-Square Test\n",
    "\n",
    "### Chi-Square Goodness of Fit Test\n",
    "- Used to test if observed categorical data follows an expected distribution.\n",
    "- Example: Checking if the observed distribution of blood types in a population matches the expected distribution.\n",
    "\n",
    "### Chi-Square Test of Independence\n",
    "- Used to assess if there's an association between two categorical variables.\n",
    "- Example: Investigating if there's a relationship between smoking status and lung cancer incidence.\n",
    "\n",
    "## 4. Regression Analysis\n",
    "\n",
    "### Linear Regression\n",
    "- Used to model the relationship between a continuous dependent variable and one or more independent variables.\n",
    "- Example: Predicting house prices based on square footage and the number of bedrooms.\n",
    "\n",
    "### Logistic Regression\n",
    "- Used when the dependent variable is binary (e.g., yes/no, 0/1).\n",
    "- Example: Predicting whether a customer will churn (yes/no) based on their purchase history.\n",
    "\n",
    "## 5. Correlation Analysis\n",
    "\n",
    "### Pearson Correlation Coefficient\n",
    "- Measures the linear relationship between two continuous variables.\n",
    "- Example: Assessing the strength and direction of the relationship between hours spent studying and exam scores.\n",
    "\n",
    "### Spearman Rank Correlation\n",
    "- Measures the strength and direction of a monotonic relationship between two variables, which may not be linear.\n",
    "- Example: Evaluating the relationship between the rank order of marathon finish times and age of participants.\n",
    "\n",
    "## 6. Nonparametric Tests\n",
    "\n",
    "### Mann-Whitney U Test\n",
    "- Used to compare two independent groups when the assumptions of a t-test are violated.\n",
    "- Example: Comparing the test scores of two groups with unequal variances.\n",
    "\n",
    "### Wilcoxon Signed-Rank Test\n",
    "- Nonparametric alternative to the paired samples t-test for matched pairs data.\n",
    "- Example: Assessing the effect of a drug treatment on patients' pain levels.\n",
    "\n",
    "## 7. K-Sample Tests\n",
    "\n",
    "### Kruskal-Wallis Test\n",
    "- Nonparametric equivalent of one-way ANOVA for comparing three or more independent groups.\n",
    "- Example: Comparing the effects of three different diets on weight loss.\n",
    "\n",
    "Remember that the choice of a statistical test should be based on the nature of your data and your research question. Additionally, it's important to ensure that the assumptions of the chosen test are met to obtain valid results.\n",
    "\n"
   ]
  }
 ],
 "metadata": {
  "kernelspec": {
   "display_name": "Python 3",
   "language": "python",
   "name": "python3"
  },
  "language_info": {
   "name": "python",
   "version": "3.11.1"
  },
  "orig_nbformat": 4
 },
 "nbformat": 4,
 "nbformat_minor": 2
}
